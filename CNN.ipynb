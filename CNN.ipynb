{
 "cells": [
  {
   "cell_type": "markdown",
   "metadata": {},
   "source": [
    "Convolution Neural Network "
   ]
  },
  {
   "cell_type": "code",
   "execution_count": 2,
   "metadata": {},
   "outputs": [],
   "source": [
    "# cnn의 일반적인 구조 \n",
    "# affine-ReLU 연결 -> Conv-ReLU-Pooling 연결로 변경\n",
    "# 출력이 가까운 층에서는 affine-ReLU 구성이 그대로 사용됨\n",
    "# 마지막 출력 층에서는 affine-Softmax 조합이 사용됨\n",
    "\n",
    "# Affine 계층의 문제점 \n",
    "# 입력 데이터의 형상이 무시됨 - 기존 affine 계층에서는 1차원의 데이터만 가능\n",
    "# 합성곱 계층에서는 형상이 유지됨 - 합성곱 계층의 입출력 데이터를 특징 맵(Feature map)이라고 함\n",
    "\n",
    "# 합성곱 연산 \n",
    "# 입력 데이터에 필터를 적용\n",
    "# 필터를 커널이라 하기도 함\n",
    "# 필터의 윈도우를 일정한 간격으로 이동해가며 입력 데이터에 적용\n",
    "# CNN의 가중치 매개변수와 편향\n",
    "# 가중치 매개변수 : 필터의 매개변수 \n",
    "# 편향은 항상(1x1)하나만 존재하며, 그 값을 필터를 적용한 모든 원소에 더함 \n",
    "\n",
    "# 패딩 \n",
    "# 합성곱 연산을 하기 전 입략 데이터 주변을 특정 값(ex.0)으로 채우는 작업\n",
    "\n",
    "# 스트라이드 \n",
    "# 필터를 적용하는 위치의 간격\n",
    "# ex 스트라이드를 2로 하면 필터를 적용하는 윈도우가 2칸씩 이동\n",
    "\n",
    "# 3차원 데이터 합성곱 연산 \n",
    "# 2차원(가로x세로) + 채널\n",
    "# 채널마다 입력데이터와 필터 간의 합성곱 연산을 수행하고, 그 결과를 더해서 하나의 출력을 얻음\n",
    "# 입력 데이터와 필터의 채널 수가 같아야 함\n",
    "# 모든 필터는 같은 크기여야 함\n",
    "# 입력 크기 (C,H,W) * 필터 (C, FH, FW) -> 출력 데이터(1,OH, OW)\n",
    "# 입력 크기 (C,H,W) * 필터 (C, FH, FW) (FN개) -> (FN ,OH, OW) + (FN , 1, 1)-> (FN,OH,OW) 출력데이터\n",
    "# 입력 크기 (N,C,H,W)(N개) * 필터 (FN, C, FH, FW) (FN개) -> (N, FN ,OH, OW) + (FN , 1, 1)-> (N, FN,OH,OW) 출력데이터\n",
    "\n",
    "# 풀링 계층\n",
    "# 세로,가로 방향의 공간을 줄이는 연산\n",
    "# 특정 윈도우에서 최대값이나 평균값을 선택하여 그 영역의 대표값으로 사용\n",
    "# 윈도우와 스트라이드는 같은 값으로 설정\n",
    "# 최대 풀링 : 특정 윈도우에서 최대값을 선택하는 방법\n",
    "# 풀링의 특징:\n",
    "#     학습해야할 매개변수가 없음\n",
    "#     채널 수가 변하지 않음\n",
    "#     입력의 변화에 영향을 적게 박음(강건성, Robustness)"
   ]
  },
  {
   "cell_type": "markdown",
   "metadata": {},
   "source": [
    "합성곱/ 풀링계층 구현"
   ]
  },
  {
   "cell_type": "code",
   "execution_count": 3,
   "metadata": {},
   "outputs": [
    {
     "data": {
      "text/plain": [
       "(10, 1, 28, 28)"
      ]
     },
     "execution_count": 3,
     "metadata": {},
     "output_type": "execute_result"
    }
   ],
   "source": [
    "import numpy as np\n",
    "x = np.random.rand(10,1,28,28)\n",
    "#높이 28, 너비 28, 채널 1, 데이터 수 10\n",
    "x.shape"
   ]
  },
  {
   "cell_type": "code",
   "execution_count": 4,
   "metadata": {},
   "outputs": [],
   "source": [
    "#numpy에서는 for문을 가급적 사용하지 않는 것이 좋음\n",
    "#im2col(image to column)\n",
    "#입력 데이터에서 필터를 적용하는 영역을 한 줄로 바꿈\n",
    "#im2col(image to culmn)사용 시 원소 수가 증가함 \n",
    "#입력 데이터에서 필터를 적용하는 영역을 한 줄로 바꿈\n",
    "#보통은 스트라이드를 크게 잡지 않기 때문에, 필터 적용 영역이 겹치게 됨"
   ]
  },
  {
   "cell_type": "code",
   "execution_count": 5,
   "metadata": {},
   "outputs": [],
   "source": [
    "#input_data: (데이터 수, 채널 수, 높이, 너비)의 4차원 배열로 이루어진 입력 데이터\n",
    "#filter_h : 필터의 높이 , filter_w: 필터의 너비 , stride : 스트라이드 , pad :패딩\n",
    "def im2col(input_data, filter_h, filter_w, stride =1, pad =0):\n",
    "    N, C, H, W = input_data.shape\n",
    "    out_h = (H + 2*pad - filter_h)//stride + 1\n",
    "    out_w = (W + 2*pad - filter_w)//stride + 1\n",
    "    img = np.pad(input_data, [(0,0),(0,0),(pad,pad),(pad,pad)], 'constant')\n",
    "    col = np.zeros((N,C,filter_h,filter_w,out_h,out_w))\n",
    "    \n",
    "    for y in range(filter_h):\n",
    "        y_max = y + stride*out_h\n",
    "        for x in range(filter_w):\n",
    "            x_max = x + stride * out_w\n",
    "            col[:, :, y, x, :, :] = img[:, :, y:y_max:stride, x:x_max:stride]\n",
    "            \n",
    "    col = col.transpose(0, 4, 5, 1, 2, 3).reshape(N*out_h*out_w, -1)\n",
    "    return col\n",
    "# 한번 더 확인해보기"
   ]
  },
  {
   "cell_type": "code",
   "execution_count": 6,
   "metadata": {},
   "outputs": [
    {
     "name": "stdout",
     "output_type": "stream",
     "text": [
      "(9, 75)\n",
      "(90, 75)\n"
     ]
    }
   ],
   "source": [
    "import sys, os\n",
    "sys.path.append(os.pardir)\n",
    "#from common.util import im2col\n",
    "\n",
    "x1 = np.random.rand(1,3,7,7)#(데이터 수, 채널 수, 높이, 너비)\n",
    "col1 = im2col(x1,5,5, stride = 1, pad = 0)\n",
    "print(col1.shape)\n",
    "\n",
    "x2 = np.random.rand(10,3,7,7)#(데이터 수, 채널 수, 높이, 너비)\n",
    "col2 = im2col(x2,5,5, stride = 1, pad = 0)\n",
    "print(col2.shape)"
   ]
  },
  {
   "cell_type": "code",
   "execution_count": 7,
   "metadata": {},
   "outputs": [],
   "source": [
    "#합성곱 계층 구현 \n",
    "class Convolution:\n",
    "    def __init__(self, W, b, stride = 1, pad = 0):\n",
    "        self.W = W\n",
    "        self.b = b\n",
    "        self.stride = stride\n",
    "        self.pad = pad\n",
    "        \n",
    "    def forward(self, x):\n",
    "        FN, C, FH, FW = self.W.shape\n",
    "        N, C, H, W = x.shape\n",
    "        out_h = int(1 + (H + 2*self.pad - FH) / self.stride)\n",
    "        out_w = int(1 + (W + 2*self.pad - FW) / self.stride)\n",
    "        \n",
    "        col = im2col(x, FH, FW, self.stride, self.pad)\n",
    "        col_W = self.W.reshape(FN, -1).T #편향 넣기\n",
    "        out = np.dot(col, col_W) + self.b\n",
    "        \n",
    "        out = out.reshape(N, out_h,out_w, -1).tranpose(0,3,1,2)\n",
    "        \n",
    "        return out"
   ]
  },
  {
   "cell_type": "code",
   "execution_count": 10,
   "metadata": {},
   "outputs": [
    {
     "name": "stdout",
     "output_type": "stream",
     "text": [
      "[[[[0.81030361 0.65682833 0.65862817]\n",
      "   [0.07602178 0.2137746  0.63161501]\n",
      "   [0.32639641 0.31393715 0.7679785 ]]\n",
      "\n",
      "  [[0.62617651 0.41044674 0.21868312]\n",
      "   [0.57685879 0.06575494 0.7402571 ]\n",
      "   [0.56907246 0.70190746 0.27674086]]]]\n"
     ]
    }
   ],
   "source": [
    "x1 = np.random.rand(1,2,3,3)\n",
    "x1_reshape = x1.reshape(1,-1)\n",
    "print(x1)"
   ]
  },
  {
   "cell_type": "code",
   "execution_count": 11,
   "metadata": {},
   "outputs": [],
   "source": [
    "class Pooling:\n",
    "    def __init__(self, pool_h, pool_w, stride=1, pad=0):\n",
    "        self.pool_h = pool_h\n",
    "        self.pool_w = pool_w\n",
    "        self.stride = stride\n",
    "        self.pad = pad\n",
    "        \n",
    "        self.x = None\n",
    "        self.arg_max = None\n",
    "        \n",
    "    def forward(self, x):\n",
    "        N, C, H, W = x.shape\n",
    "        out_h = int(1 + (H - self.pool_h) / self.stride)\n",
    "        out_w = int(1 + (W - self.pool_w) / self.stride)\n",
    "        \n",
    "        col = im2col(x, self.pool_h, self.pool_w, self.stride, self.pad)\n",
    "        col = col.reshape(-1, self.pool_h * self.pool_w)\n",
    "        \n",
    "        out = np.max(col, axis=1)\n",
    "        \n",
    "        out = out.reshape(N, out_h, out_w, C).transpose(0,3,1,2)\n",
    "        \n",
    "        return out"
   ]
  },
  {
   "cell_type": "code",
   "execution_count": 12,
   "metadata": {},
   "outputs": [],
   "source": [
    "# input_dim: 입력 데이터(채널 수, 높이, 너비)의 차원\n",
    "# conv_param: 합성곱 계층의 초매개변수(dictionary)\n",
    "# hidden_size: 은닉층의 뉴런 수 \n",
    "# output_size: 출력층의 뉴런 수\n",
    "# weight_init_std: 초기화 때의 가중치 표준편자 \n",
    "\n",
    "class SimpleConvNet:\n",
    "    def __init__(self, inout_dim=(1,28,28),\n",
    "                conv_param={'filter_num':30, 'filter_size':5, 'pad':0, 'stride':1},\n",
    "                hidden_size=100, output_size=10, weight_init_std=0.01):\n",
    "        filter_num = conv_param['filter_num']\n",
    "        filter_size = conv_param['filter_size']\n",
    "        filter_pad = conv_param['pad']\n",
    "        filter_stride = conv_param['stride']\n",
    "        input_size = input_dim[1]\n",
    "        conv_output_size = (input_size - filter_size + 2*filter_pad) / filter_stride +1\n",
    "        pool_output_size = int(filter_num * (conv_output_size/2) * (conv_output_size/2))\n",
    "        \n",
    "        "
   ]
  },
  {
   "cell_type": "code",
   "execution_count": null,
   "metadata": {},
   "outputs": [],
   "source": []
  }
 ],
 "metadata": {
  "kernelspec": {
   "display_name": "Python 3",
   "language": "python",
   "name": "python3"
  },
  "language_info": {
   "codemirror_mode": {
    "name": "ipython",
    "version": 3
   },
   "file_extension": ".py",
   "mimetype": "text/x-python",
   "name": "python",
   "nbconvert_exporter": "python",
   "pygments_lexer": "ipython3",
   "version": "3.7.3"
  }
 },
 "nbformat": 4,
 "nbformat_minor": 2
}

{
 "cells": [
  {
   "cell_type": "markdown",
   "metadata": {},
   "source": [
    "Convolution Neural Network "
   ]
  },
  {
   "cell_type": "code",
   "execution_count": 2,
   "metadata": {},
   "outputs": [],
   "source": [
    "# cnn의 일반적인 구조 \n",
    "# affine-ReLU 연결 -> Conv-ReLU-Pooling 연결로 변경\n",
    "# 출력이 가까운 층에서는 affine-ReLU 구성이 그대로 사용됨\n",
    "# 마지막 출력 층에서는 affine-Softmax 조합이 사용됨\n",
    "\n",
    "# Affine 계층의 문제점 \n",
    "# 입력 데이터의 형상이 무시됨 - 기존 affine 계층에서는 1차원의 데이터만 가능\n",
    "# 합성곱 계층에서는 형상이 유지됨 - 합성곱 계층의 입출력 데이터를 특징 맵(Feature map)이라고 함\n",
    "\n",
    "# 합성곱 연산 \n",
    "# 입력 데이터에 필터를 적용\n",
    "# 필터를 커널이라 하기도 함\n",
    "# 필터의 윈도우를 일정한 간격으로 이동해가며 입력 데이터에 적용\n",
    "# CNN의 가중치 매개변수와 편향\n",
    "# 가중치 매개변수 : 필터의 매개변수 \n",
    "# 편향은 항상(1x1)하나만 존재하며, 그 값을 필터를 적용한 모든 원소에 더함 \n",
    "\n",
    "# 패딩 \n",
    "# 합성곱 연산을 하기 전 입략 데이터 주변을 특정 값(ex.0)으로 채우는 작업\n",
    "\n",
    "# 스트라이드 \n",
    "# 필터를 적용하는 위치의 간격\n",
    "# ex 스트라이드를 2로 하면 필터를 적용하는 윈도우가 2칸씩 이동\n",
    "\n",
    "# 3차원 데이터 합성곱 연산 \n",
    "# 2차원(가로x세로) + 채널\n",
    "# 채널마다 입력데이터와 필터 간의 합성곱 연산을 수행하고, 그 결과를 더해서 하나의 출력을 얻음\n",
    "# 입력 데이터와 필터의 채널 수가 같아야 함\n",
    "# 모든 필터는 같은 크기여야 함\n",
    "# 입력 크기 (C,H,W) * 필터 (C, FH, FW) -> 출력 데이터(1,OH, OW)\n",
    "# 입력 크기 (C,H,W) * 필터 (C, FH, FW) (FN개) -> (FN ,OH, OW) + (FN , 1, 1)-> (FN,OH,OW) 출력데이터\n",
    "# 입력 크기 (N,C,H,W)(N개) * 필터 (FN, C, FH, FW) (FN개) -> (N, FN ,OH, OW) + (FN , 1, 1)-> (N, FN,OH,OW) 출력데이터\n",
    "\n",
    "# 풀링 계층\n",
    "# 세로,가로 방향의 공간을 줄이는 연산\n",
    "# 특정 윈도우에서 최대값이나 평균값을 선택하여 그 영역의 대표값으로 사용\n",
    "# 윈도우와 스트라이드는 같은 값으로 설정\n",
    "# 최대 풀링 : 특정 윈도우에서 최대값을 선택하는 방법\n",
    "# 풀링의 특징:\n",
    "#     학습해야할 매개변수가 없음\n",
    "#     채널 수가 변하지 않음\n",
    "#     입력의 변화에 영향을 적게 박음(강건성, Robustness)"
   ]
  },
  {
   "cell_type": "markdown",
   "metadata": {},
   "source": [
    "합성곱/ 풀링계층 구현"
   ]
  },
  {
   "cell_type": "code",
   "execution_count": 3,
   "metadata": {},
   "outputs": [
    {
     "data": {
      "text/plain": [
       "(10, 1, 28, 28)"
      ]
     },
     "execution_count": 3,
     "metadata": {},
     "output_type": "execute_result"
    }
   ],
   "source": [
    "import numpy as np\n",
    "x = np.random.rand(10,1,28,28)\n",
    "#높이 28, 너비 28, 채널 1, 데이터 수 10\n",
    "x.shape"
   ]
  },
  {
   "cell_type": "code",
   "execution_count": 4,
   "metadata": {},
   "outputs": [],
   "source": [
    "#numpy에서는 for문을 가급적 사용하지 않는 것이 좋음\n",
    "#im2col(image to column)\n",
    "#입력 데이터에서 필터를 적용하는 영역을 한 줄로 바꿈\n",
    "#im2col(image to culmn)사용 시 원소 수가 증가함 \n",
    "#입력 데이터에서 필터를 적용하는 영역을 한 줄로 바꿈\n",
    "#보통은 스트라이드를 크게 잡지 않기 때문에, 필터 적용 영역이 겹치게 됨"
   ]
  },
  {
   "cell_type": "code",
   "execution_count": 5,
   "metadata": {},
   "outputs": [],
   "source": [
    "#input_data: (데이터 수, 채널 수, 높이, 너비)의 4차원 배열로 이루어진 입력 데이터\n",
    "#filter_h : 필터의 높이 , filter_w: 필터의 너비 , stride : 스트라이드 , pad :패딩\n",
    "def im2col(input_data, filter_h, filter_w, stride =1, pad =0):\n",
    "    N, C, H, W = input_data.shape\n",
    "    out_h = (H + 2*pad - filter_h)//stride + 1\n",
    "    out_w = (W + 2*pad - filter_w)//stride + 1\n",
    "    img = np.pad(input_data, [(0,0),(0,0),(pad,pad),(pad,pad)], 'constant')\n",
    "    col = np.zeros((N,C,filter_h,filter_w,out_h,out_w))\n",
    "    \n",
    "    for y in range(filter_h):\n",
    "        y_max = y + stride*out_h\n",
    "        for x in range(filter_w):\n",
    "            x_max = x + stride * out_w\n",
    "            col[:, :, y, x, :, :] = img[:, :, y:y_max:stride, x:x_max:stride]\n",
    "            \n",
    "    col = col.transpose(0, 4, 5, 1, 2, 3).reshape(N*out_h*out_w, -1)\n",
    "    return col\n",
    "# 한번 더 확인해보기"
   ]
  },
  {
   "cell_type": "code",
   "execution_count": 6,
   "metadata": {},
   "outputs": [
    {
     "name": "stdout",
     "output_type": "stream",
     "text": [
      "(9, 75)\n",
      "(90, 75)\n"
     ]
    }
   ],
   "source": [
    "import sys, os\n",
    "sys.path.append(os.pardir)\n",
    "#from common.util import im2col\n",
    "\n",
    "x1 = np.random.rand(1,3,7,7)#(데이터 수, 채널 수, 높이, 너비)\n",
    "col1 = im2col(x1,5,5, stride = 1, pad = 0)\n",
    "print(col1.shape)\n",
    "\n",
    "x2 = np.random.rand(10,3,7,7)#(데이터 수, 채널 수, 높이, 너비)\n",
    "col2 = im2col(x2,5,5, stride = 1, pad = 0)\n",
    "print(col2.shape)"
   ]
  },
  {
   "cell_type": "code",
   "execution_count": 7,
   "metadata": {},
   "outputs": [],
   "source": [
    "#합성곱 계층 구현 \n",
    "class Convolution:\n",
    "    def __init__(self, W, b, stride = 1, pad = 0):\n",
    "        self.W = W\n",
    "        self.b = b\n",
    "        self.stride = stride\n",
    "        self.pad = pad\n",
    "        \n",
    "    def forward(self, x):\n",
    "        FN, C, FH, FW = self.W.shape\n",
    "        N, C, H, W = x.shape\n",
    "        out_h = int(1 + (H + 2*self.pad - FH) / self.stride)\n",
    "        out_w = int(1 + (W + 2*self.pad - FW) / self.stride)\n",
    "        \n",
    "        col = im2col(x, FH, FW, self.stride, self.pad)\n",
    "        col_W = self.W.reshape(FN, -1).T #편향 넣기\n",
    "        out = np.dot(col, col_W) + self.b\n",
    "        \n",
    "        out = out.reshape(N, out_h,out_w, -1).tranpose(0,3,1,2)\n",
    "        \n",
    "        return out"
   ]
  },
  {
   "cell_type": "code",
   "execution_count": 10,
   "metadata": {},
   "outputs": [
    {
     "name": "stdout",
     "output_type": "stream",
     "text": [
      "[[[[0.81030361 0.65682833 0.65862817]\n",
      "   [0.07602178 0.2137746  0.63161501]\n",
      "   [0.32639641 0.31393715 0.7679785 ]]\n",
      "\n",
      "  [[0.62617651 0.41044674 0.21868312]\n",
      "   [0.57685879 0.06575494 0.7402571 ]\n",
      "   [0.56907246 0.70190746 0.27674086]]]]\n"
     ]
    }
   ],
   "source": [
    "x1 = np.random.rand(1,2,3,3)\n",
    "x1_reshape = x1.reshape(1,-1)\n",
    "print(x1)"
   ]
  },
  {
   "cell_type": "code",
   "execution_count": 11,
   "metadata": {},
   "outputs": [],
   "source": [
    "class Pooling:\n",
    "    def __init__(self, pool_h, pool_w, stride=1, pad=0):\n",
    "        self.pool_h = pool_h\n",
    "        self.pool_w = pool_w\n",
    "        self.stride = stride\n",
    "        self.pad = pad\n",
    "        \n",
    "        self.x = None\n",
    "        self.arg_max = None\n",
    "        \n",
    "    def forward(self, x):\n",
    "        N, C, H, W = x.shape\n",
    "        out_h = int(1 + (H - self.pool_h) / self.stride)\n",
    "        out_w = int(1 + (W - self.pool_w) / self.stride)\n",
    "        \n",
    "        col = im2col(x, self.pool_h, self.pool_w, self.stride, self.pad)\n",
    "        col = col.reshape(-1, self.pool_h * self.pool_w)\n",
    "        \n",
    "        out = np.max(col, axis=1)\n",
    "        \n",
    "        out = out.reshape(N, out_h, out_w, C).transpose(0,3,1,2)\n",
    "        \n",
    "        return out"
   ]
  },
  {
   "cell_type": "code",
   "execution_count": 6,
   "metadata": {},
   "outputs": [],
   "source": [
    "class Affine:\n",
    "    def __init__(self, w, b):\n",
    "        self.W = W\n",
    "        self.b = b\n",
    "        self.x = None\n",
    "        self.dW = None\n",
    "        self.db = None\n",
    "        \n",
    "    def forward(self, x):\n",
    "        self.x = x\n",
    "        out = np.dot(x,self.W) + self.b\n",
    "        return out\n",
    "    \n",
    "    def backward(self, dout):\n",
    "        dx = np.dot(dout, self.W.T)\n",
    "        self.dW = np.dot(self.x.T, dout)\n",
    "        self.db = np.sum(dout, axis = 0)\n",
    "        return dx\n",
    "    "
   ]
  },
  {
   "cell_type": "code",
   "execution_count": 7,
   "metadata": {},
   "outputs": [],
   "source": [
    "# input_dim: 입력 데이터(채널 수, 높이, 너비)의 차원\n",
    "# conv_param: 합성곱 계층의 초매개변수(dictionary)\n",
    "# hidden_size: 은닉층의 뉴런 수 \n",
    "# output_size: 출력층의 뉴런 수\n",
    "# weight_init_std: 초기화 때의 가중치 표준편자 \n",
    "\n",
    "class SimpleConvNet:\n",
    "    def __init__(self, inout_dim=(1,28,28),\n",
    "                conv_param={'filter_num':30, 'filter_size':5, 'pad':0, 'stride':1},\n",
    "                hidden_size=100, output_size=10, weight_init_std=0.01):\n",
    "        filter_num = conv_param['filter_num']\n",
    "        filter_size = conv_param['filter_size']\n",
    "        filter_pad = conv_param['pad']\n",
    "        filter_stride = conv_param['stride']\n",
    "        input_size = input_dim[1]\n",
    "        conv_output_size = (input_size - filter_size + 2*filter_pad) / filter_stride +1\n",
    "        pool_output_size = int(filter_num * (conv_output_size/2) * (conv_output_size/2))\n",
    "        #가중치 초기화\n",
    "        self.params = {}\n",
    "        self.params['W1'] = weight_init_std * np.random.randn(filter_num, input_dim[0], filter_size, filter_size)\n",
    "        self.params['b1'] = np.zeros(filter_num)\n",
    "        self.params['W2'] = weight_init_std * np.random.randn(filter_num, hidden_size)\n",
    "        self.params['b2'] = np.zeros(hidden_size)\n",
    "        self.params['W3'] = weight_init_std * np.random.randn(hidden_size, output_size)\n",
    "        self.params['b3'] = np.zeros(output_size)\n",
    "        #계층 생성\n",
    "        self.layers = OrderedDict()\n",
    "        self.layers['Conv1'] = Convolution(self.params['W1'], self.params['b1'],\n",
    "                                          conv_param['stride'], conv_param['pad'])\n",
    "        self.layers['Relu1'] = Relu()\n",
    "        self.layers['Pool1'] = Pooling(pool_h=2, pool_w=2, stride=2)\n",
    "        self.layers['Affine1'] = Affine(self.params['W2'], self.params['b2'])\n",
    "        self.layers['Relu2'] = Relu()\n",
    "        self.layers['Affine2'] = Affine(self.params['W3'], self.params['b3'])\n",
    "        \n",
    "        self.last_layer = SoftmaxWithLoss()"
   ]
  },
  {
   "cell_type": "code",
   "execution_count": 2,
   "metadata": {},
   "outputs": [],
   "source": [
    "def predict(self,x):\n",
    "    for layer in self.layers.values():\n",
    "        x = layer.forward(x)\n",
    "    return x\n",
    "\n",
    "def loss(self, x, t):\n",
    "    y = self.predict(x)\n",
    "    return self.last_layer.forward(y, t)"
   ]
  },
  {
   "cell_type": "code",
   "execution_count": 3,
   "metadata": {},
   "outputs": [],
   "source": [
    "def gradient(self, x, t):\n",
    "    # forward\n",
    "    self.loss(x, t)\n",
    "    # backward\n",
    "    dout = 1\n",
    "    dout = self.last_layer.backward(dout)\n",
    "    \n",
    "    layers = list(self.layers.values())\n",
    "    layers.reverse()\n",
    "    for layer in layers:\n",
    "        dout = layer.backward(dout)\n",
    "        \n",
    "    grads = {}\n",
    "    grads['W1'], grads['b1'] = self.layers['Conv1'].dW, self.layers['Conv1'].db\n",
    "    grads['W2'], grads['b2'] = self.layers['Affine1'].dW, self.layers['Affine1'].db\n",
    "    grads['W3'], grads['b3'] = self.layers['Affine2'].dW, self.layers['Affine2'].db\n",
    "    \n",
    "    return grads"
   ]
  },
  {
   "cell_type": "code",
   "execution_count": 8,
   "metadata": {},
   "outputs": [
    {
     "ename": "ModuleNotFoundError",
     "evalue": "No module named 'dataset'",
     "output_type": "error",
     "traceback": [
      "\u001b[1;31m---------------------------------------------------------------------------\u001b[0m",
      "\u001b[1;31mModuleNotFoundError\u001b[0m                       Traceback (most recent call last)",
      "\u001b[1;32m<ipython-input-8-5c0cc8e37c85>\u001b[0m in \u001b[0;36m<module>\u001b[1;34m\u001b[0m\n\u001b[0;32m      3\u001b[0m \u001b[1;32mimport\u001b[0m \u001b[0mnumpy\u001b[0m \u001b[1;32mas\u001b[0m \u001b[0mnp\u001b[0m\u001b[1;33m\u001b[0m\u001b[1;33m\u001b[0m\u001b[0m\n\u001b[0;32m      4\u001b[0m \u001b[1;32mimport\u001b[0m \u001b[0mmatplotlib\u001b[0m\u001b[1;33m.\u001b[0m\u001b[0mpyplot\u001b[0m \u001b[1;32mas\u001b[0m \u001b[0mplt\u001b[0m\u001b[1;33m\u001b[0m\u001b[1;33m\u001b[0m\u001b[0m\n\u001b[1;32m----> 5\u001b[1;33m \u001b[1;32mfrom\u001b[0m \u001b[0mdataset\u001b[0m\u001b[1;33m.\u001b[0m\u001b[0mmnist\u001b[0m \u001b[1;32mimport\u001b[0m \u001b[0mload_mnist\u001b[0m\u001b[1;33m\u001b[0m\u001b[1;33m\u001b[0m\u001b[0m\n\u001b[0m\u001b[0;32m      6\u001b[0m \u001b[1;32mfrom\u001b[0m \u001b[0mcommon\u001b[0m\u001b[1;33m.\u001b[0m\u001b[0mtrainer\u001b[0m \u001b[1;32mimport\u001b[0m \u001b[0mTrainer\u001b[0m\u001b[1;33m\u001b[0m\u001b[1;33m\u001b[0m\u001b[0m\n",
      "\u001b[1;31mModuleNotFoundError\u001b[0m: No module named 'dataset'"
     ]
    }
   ],
   "source": [
    "import sys, os\n",
    "sys.path.append(os.pardir) #부모 디렉터리의 파일을 가져올 수 있도록 설정\n",
    "import numpy as np\n",
    "import matplotlib.pyplot as plt\n",
    "from dataset.mnist import load_mnist\n",
    "from common.trainer import Trainer\n",
    "\n",
    "#데이터 읽기\n",
    "(x_train, t_train), (x_test, t_test) = load_mnist(flatten=False)\n",
    "\n",
    "#시간이 오래 걸릴 경우, 데이터를 줄인다.\n",
    "#x_train, t_train = x_train[:5000], t_train[:5000]\n",
    "#x_test, t_test = x_test[:1000], t_test[:1000]\n",
    "\n",
    "max_epochs = 20\n",
    "\n",
    "network = SimpleConvNet(input_dim=(1,28,28),\n",
    "                       conv_param = {'filter_num': 30, 'filter_size': 5, \n",
    "                                     'pad': 0, 'stride': 1},\n",
    "                       hidden_size=100, output_size=10, weight_init_std=0.01)\n",
    "\n",
    "trainer = Trainer(network, x_train, t_train, x_test, t_test,\n",
    "                 epoches=max_epochs, mini_batch_size=100,\n",
    "                 optimizer='Adam', optimizer_param={'lr':0.001},\n",
    "                 evaluate_sample_num_per_epoch=1000)\n",
    "trainer.train()\n",
    "\n",
    "#매개변수 보존\n",
    "network.save_params(\"params.pkl\")\n",
    "print(\"Saved Network Parameters!\") \n",
    "\n",
    "#그래프 그리기\n",
    "markers = {'train': 'o', 'test': 's'}\n",
    "x = np.arange(max_epoches)\n",
    "plt.plot(x, trainer.train_acc_list, marker='o', label='train', markevery=2)\n",
    "plt.plot(x, trainer.train_acc_list, marker='s', label='test', markevery=2)\n",
    "plt.xlabel(\"epochs\")\n",
    "plt.ylabel(\"accuracy\")\n",
    "plt.ylim(0, 1.0)\n",
    "plt.legend(loc='lower right')\n",
    "plt.show()"
   ]
  },
  {
   "cell_type": "code",
   "execution_count": 9,
   "metadata": {},
   "outputs": [],
   "source": [
    "# 학습이란? \n",
    "# Training data로부터 weight parameter의 최적값을 자동으로 찾아내는 것"
   ]
  },
  {
   "cell_type": "code",
   "execution_count": 11,
   "metadata": {},
   "outputs": [],
   "source": [
    "# 층 깊이에 따른 추출정보\n",
    "# 층이 깊어질수록 추출되는 정보가 더 추상화 됨\n",
    "# 합성곱 계층을 여러겹 쌓으면, 층이 깊어지면서 더 복잡하고 추상화된 정보가 추출"
   ]
  },
  {
   "cell_type": "code",
   "execution_count": null,
   "metadata": {},
   "outputs": [],
   "source": [
    "대표적인 CNN:\n",
    "    LeNet : 처음에는 합성곱 계층과 풀링 계층을 반복, 활성화 함수를 sigmoid를 사용\n",
    "    AlexNet : LeNet과 차이: 활성화 함수를 ReLU사용, LRN이라는 국소적 정규화를 실시하는 계층을 이용\n",
    "            ,드롭아웃 사용\n",
    "CNN :\n",
    "    convolution-ReLU-Pooling-Affine-ReLU-Affine-softmax"
   ]
  }
 ],
 "metadata": {
  "kernelspec": {
   "display_name": "Python 3",
   "language": "python",
   "name": "python3"
  },
  "language_info": {
   "codemirror_mode": {
    "name": "ipython",
    "version": 3
   },
   "file_extension": ".py",
   "mimetype": "text/x-python",
   "name": "python",
   "nbconvert_exporter": "python",
   "pygments_lexer": "ipython3",
   "version": "3.7.3"
  }
 },
 "nbformat": 4,
 "nbformat_minor": 2
}

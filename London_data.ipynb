{
 "cells": [
  {
   "cell_type": "markdown",
   "metadata": {},
   "source": [
    "journeys 데이터를 전처리해보도록 하겠습니다."
   ]
  },
  {
   "cell_type": "code",
   "execution_count": 1,
   "metadata": {},
   "outputs": [],
   "source": [
    "import pandas as pd\n",
    "import surprise\n",
    "import numpy as np"
   ]
  },
  {
   "cell_type": "code",
   "execution_count": 28,
   "metadata": {},
   "outputs": [
    {
     "name": "stdout",
     "output_type": "stream",
     "text": [
      "['End Station ID', 478, 122, 639, 755]\n",
      "['Start Station ID', 251, 550, 212, 163]\n"
     ]
    }
   ],
   "source": [
    "import openpyxl\n",
    " \n",
    "# 엑셀파일 열기\n",
    "workbook = openpyxl.load_workbook('data/journeys.xlsx')\n",
    " \n",
    "# 현재 Active Sheet 얻기\n",
    "workbook_value = workbook.active\n",
    "element = [] \n",
    "list_start = []\n",
    "list_end = []\n",
    "\n",
    "for r in workbook_value.rows:\n",
    "    End_station = r[7].value\n",
    "    Start_station = r[13].value\n",
    "    # 각 행별로 원소를 지정했습니다.\n",
    "    list_start.append(End_station)\n",
    "    list_end.append(Start_station)\n",
    "\n",
    "print(list_start[0:5])\n",
    "print(list_end[0:5])"
   ]
  },
  {
   "cell_type": "code",
   "execution_count": 29,
   "metadata": {},
   "outputs": [],
   "source": [
    "del list_start[0]\n",
    "del list_end[0]\n",
    "#첫 원소를 지워줍니다. "
   ]
  },
  {
   "cell_type": "code",
   "execution_count": 49,
   "metadata": {},
   "outputs": [
    {
     "name": "stdout",
     "output_type": "stream",
     "text": [
      "start station count list입니다:\n",
      "[[1, 618], [2, 1572], [3, 2602], [4, 1077], [5, 2516]]\n",
      "길이 : 778\n",
      "End station count list입니다:\n",
      "[[1, 858], [2, 1231], [3, 2230], [4, 984], [5, 2302]]\n",
      "길이 :778\n",
      "[station , start station count, End station count]로 구성된 list입니다:\n",
      "[[1, 618, 858], [2, 1572, 1231], [3, 2602, 2230], [4, 1077, 984], [5, 2516, 2302]]\n"
     ]
    }
   ],
   "source": [
    "from collections import Counter\n",
    "\n",
    "list_start.sort()\n",
    "list_end.sort()\n",
    "#리스트를 정렬해줍니다.\n",
    "\n",
    "a = Counter(list_start)\n",
    "b = Counter(list_end)\n",
    "\n",
    "A = list(a)\n",
    "B = list(b)\n",
    "\n",
    "list_start_complete  = []\n",
    "list_end_complete  = []\n",
    "for key, value in a.items():\n",
    "    temp = [key, value]\n",
    "    list_start_complete.append(temp)\n",
    "    \n",
    "for key, value in b.items():\n",
    "    temp = [key, value]\n",
    "    list_end_complete.append(temp)\n",
    "# start station, end station의 자료를 각 지점마다 카운트해준 변수값을 계산하여\n",
    "# [station ID, count(stationID)] 형식으로 만들었습니다.\n",
    "\n",
    "print('start station count list입니다:')\n",
    "print(list_start_complete[0:5])\n",
    "print(\"길이 : \"+ str(len(list_start_complete)))\n",
    "\n",
    "print('End station count list입니다:')\n",
    "print(list_end_complete[0:5])\n",
    "print(\"길이 :\" +str(len(list_end_complete)))\n",
    "\n",
    "element = []\n",
    "list_complete = []\n",
    "\n",
    "for i in range(len(list_start_complete)):\n",
    "    a = list_start_complete[i][0]\n",
    "    b = list_end_complete[i][0]\n",
    "    c = list_start_complete[i][1]\n",
    "    d = list_end_complete[i][1]\n",
    "    if a == b:\n",
    "        element = [a, c, d]\n",
    "        list_complete.append(element)\n",
    "        a = []\n",
    "        b = []\n",
    "        element = []\n",
    "        \n",
    "print('[station , start station count, End station count]로 구성된 list입니다:')        \n",
    "print(list_complete[0:5])\n",
    "# list로 [station , start station count, End station count] 로 만들었습니다."
   ]
  },
  {
   "cell_type": "code",
   "execution_count": 45,
   "metadata": {},
   "outputs": [],
   "source": [
    "import csv\n",
    "\n",
    "csv.register_dialect(\n",
    "    'mydialect',\n",
    "    delimiter = ',',\n",
    "    quotechar = '\"',\n",
    "    doublequote = True,\n",
    "    skipinitialspace = True,\n",
    "    lineterminator = '\\r\\n',\n",
    "    quoting = csv.QUOTE_MINIMAL)\n",
    "\n",
    "title = ['Station ID', 'Start station Count', 'End station Count']\n",
    "list_complete.insert(0, title)\n",
    "\n",
    "with open('Station_count.csv', 'w', newline='') as mycsvfile:\n",
    "    thedatawriter = csv.writer(mycsvfile, dialect='mydialect')\n",
    "    for row in list_complete:\n",
    "        thedatawriter.writerow(row)\n",
    "# list를 csv 파일에 writting하고 csv파일로 저장했습니다."
   ]
  }
 ],
 "metadata": {
  "kernelspec": {
   "display_name": "Python 3",
   "language": "python",
   "name": "python3"
  },
  "language_info": {
   "codemirror_mode": {
    "name": "ipython",
    "version": 3
   },
   "file_extension": ".py",
   "mimetype": "text/x-python",
   "name": "python",
   "nbconvert_exporter": "python",
   "pygments_lexer": "ipython3",
   "version": "3.7.3"
  }
 },
 "nbformat": 4,
 "nbformat_minor": 2
}

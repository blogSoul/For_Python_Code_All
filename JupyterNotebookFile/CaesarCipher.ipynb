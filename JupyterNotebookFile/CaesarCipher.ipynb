{
 "cells": [
  {
   "cell_type": "markdown",
   "metadata": {},
   "source": [
    "카이사르 암호 해독 코드"
   ]
  },
  {
   "cell_type": "code",
   "execution_count": null,
   "metadata": {},
   "outputs": [],
   "source": []
  },
  {
   "cell_type": "code",
   "execution_count": 5,
   "metadata": {},
   "outputs": [],
   "source": [
    "def CaesarCipher(text, key,enc=True):\n",
    "    alphabet=['a','b','c','d','e','f','g','h','i','j','k','l','m','n','o','p','q','r','s','t','u','v','w','x','y','z']\n",
    "    enc_rule={}\n",
    "    for i in range(len(alphabet)):\n",
    "        enc_rule[alphabet[i]] = alphabet[(i+key) % len(alphabet)]\n",
    "    dec_rule = dict([(j,i) for (i,j) in enc_rule.items()])\n",
    "    \n",
    "    if enc == True:\n",
    "        rule =enc_rule\n",
    "    else:\n",
    "        rule =dec_rule\n",
    "    \n",
    "    res = \"\"\n",
    "    list = []\n",
    "    for x in text.lower():   \n",
    "        if x in alphabet:\n",
    "            res += rule[x]\n",
    "        else:\n",
    "            res += x\n",
    "    return res\n",
    "#이 함수는 (원하는 문장, 얼마나 이동 시킬 것인지, True면 앞으로 False면 뒤로 이동한다.)이다.\n"
   ]
  },
  {
   "cell_type": "code",
   "execution_count": 10,
   "metadata": {},
   "outputs": [],
   "source": [
    "plain = \"This is an example!\""
   ]
  },
  {
   "cell_type": "code",
   "execution_count": 3,
   "metadata": {},
   "outputs": [],
   "source": [
    "remeber = CaesarCipher(plain, 4, enc=True)"
   ]
  },
  {
   "cell_type": "code",
   "execution_count": 4,
   "metadata": {},
   "outputs": [
    {
     "name": "stdout",
     "output_type": "stream",
     "text": [
      "xlmw mw er ibeqtpi\n"
     ]
    }
   ],
   "source": [
    "print(remeber)"
   ]
  },
  {
   "cell_type": "code",
   "execution_count": 11,
   "metadata": {},
   "outputs": [
    {
     "name": "stdout",
     "output_type": "stream",
     "text": [
      "{'t': 0, 'h': 1, 'i': 2, 's': 2, 'a': 2, 'n': 1, 'e': 2, 'x': 1, 'm': 1, 'p': 1, 'l': 1}\n",
      "[('i', 2), ('s', 2), ('a', 2), ('e', 2), ('h', 1), ('n', 1), ('x', 1), ('m', 1), ('p', 1), ('l', 1), ('t', 0)]\n"
     ]
    }
   ],
   "source": [
    "#이 함수는 텍스트 안에 알파벳이 얼마나 들어 있는지 확인할 수 있는 함수 입니다. \n",
    "def countAlphabet(text):\n",
    "    alphabet=['a','b','c','d','e','f','g','h','i','j','k','l','m','n','o','p','q','r','s','t','u','v','w','x','y','z']\n",
    "    #['A','B','C','D','E','F','G','H','I','J','K','L','M','N','O','P','Q','R','S','T','U','V','W','X','Y','Z']\n",
    "    rule = {}\n",
    "    for i in range(len(alphabet)):\n",
    "        rule[alphabet[i]] = alphabet[(i) % len(alphabet)]\n",
    "    res=\"\"\n",
    "    countlist={}\n",
    "    for x in text.lower():\n",
    "        if x in alphabet:\n",
    "            countlist[x]=text.count(x)\n",
    "    ordered_tmp = list(countlist.items())\n",
    "    ordered_tmp.sort(key = lambda x : x[1],reverse = True)\n",
    "    return ordered_tmp\n",
    "\n",
    "print(countAlphabet(plain))           "
   ]
  },
  {
   "cell_type": "code",
   "execution_count": 1,
   "metadata": {},
   "outputs": [],
   "source": [
    "?print"
   ]
  },
  {
   "cell_type": "code",
   "execution_count": null,
   "metadata": {},
   "outputs": [],
   "source": []
  }
 ],
 "metadata": {
  "kernelspec": {
   "display_name": "Python 3",
   "language": "python",
   "name": "python3"
  },
  "language_info": {
   "codemirror_mode": {
    "name": "ipython",
    "version": 3
   },
   "file_extension": ".py",
   "mimetype": "text/x-python",
   "name": "python",
   "nbconvert_exporter": "python",
   "pygments_lexer": "ipython3",
   "version": "3.7.3"
  }
 },
 "nbformat": 4,
 "nbformat_minor": 2
}

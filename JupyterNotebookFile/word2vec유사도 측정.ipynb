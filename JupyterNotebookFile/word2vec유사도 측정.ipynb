{
 "cells": [
  {
   "cell_type": "code",
   "execution_count": 9,
   "metadata": {},
   "outputs": [],
   "source": [
    "import gensim\n",
    "import gensim.models.keyedvectors as word2vec\n",
    "# Linked by : https://github.com/Kyubyong/wordvectors\n",
    "# 사전 훈련된 워드 임베딩으로 단어 유사도 측정\n",
    "# 데이터 경로 : 위키피디아"
   ]
  },
  {
   "cell_type": "code",
   "execution_count": 10,
   "metadata": {},
   "outputs": [],
   "source": [
    "model = gensim.models.Word2Vec.load('../Data/ko.bin')"
   ]
  },
  {
   "cell_type": "code",
   "execution_count": 11,
   "metadata": {},
   "outputs": [
    {
     "name": "stdout",
     "output_type": "stream",
     "text": [
      "[('강렬', 0.6977052688598633), ('무기력', 0.6428704261779785), ('애절', 0.6334071159362793), ('경쾌', 0.6156871318817139), ('예리', 0.6113821268081665), ('추악', 0.6113097071647644), ('비통', 0.6093991994857788), ('일그러지', 0.6051713824272156), ('차분', 0.5982251167297363), ('침착', 0.5927937030792236)]\n"
     ]
    }
   ],
   "source": [
    "result = model.wv.most_similar(\"우울\")\n",
    "print(result)"
   ]
  },
  {
   "cell_type": "code",
   "execution_count": 12,
   "metadata": {},
   "outputs": [
    {
     "name": "stdout",
     "output_type": "stream",
     "text": [
      "[('자살', 0.6066540479660034), ('무고', 0.5878288745880127), ('폭행', 0.5835997462272644), ('구타', 0.5825192928314209), ('방조', 0.563969612121582), ('간음', 0.5639179944992065), ('흉기', 0.5567123889923096), ('협박', 0.553383469581604), ('공갈', 0.5482094287872314), ('역모', 0.5405489206314087)]\n"
     ]
    }
   ],
   "source": [
    "result = model.wv.most_similar(\"자해\")\n",
    "print(result)"
   ]
  },
  {
   "cell_type": "code",
   "execution_count": 13,
   "metadata": {},
   "outputs": [
    {
     "name": "stdout",
     "output_type": "stream",
     "text": [
      "[('자결', 0.6940337419509888), ('할복', 0.6627672910690308), ('성폭행', 0.6601747274398804), ('폭행', 0.649468183517456), ('구타', 0.621059775352478), ('살해', 0.6105256080627441), ('자해', 0.6066540479660034), ('탈옥', 0.58445143699646), ('숨지', 0.5821514129638672), ('암매장', 0.5812647342681885)]\n"
     ]
    }
   ],
   "source": [
    "result = model.wv.most_similar(\"자살\")\n",
    "print(result)"
   ]
  },
  {
   "cell_type": "code",
   "execution_count": 14,
   "metadata": {},
   "outputs": [
    {
     "name": "stdout",
     "output_type": "stream",
     "text": [
      "[('폭력적', 0.6629045605659485), ('성폭력', 0.5995217561721802), ('테러리즘', 0.5860792398452759), ('성희롱', 0.5791626572608948), ('차별', 0.5683964490890503), ('억압', 0.5622648000717163), ('동성애', 0.561874270439148), ('혐오', 0.5593382120132446), ('소수자', 0.5560852289199829), ('무관심', 0.5544731616973877)]\n"
     ]
    }
   ],
   "source": [
    "result = model.wv.most_similar(\"폭력\")\n",
    "print(result)"
   ]
  },
  {
   "cell_type": "code",
   "execution_count": 15,
   "metadata": {},
   "outputs": [
    {
     "name": "stdout",
     "output_type": "stream",
     "text": [
      "[('분업', 0.6002646684646606), ('본능', 0.5758592486381531), ('정서적', 0.56782066822052), ('특질', 0.560036301612854), ('욕구', 0.5508164167404175), ('가치관', 0.5500236749649048), ('연결망', 0.5423973798751831), ('사회적', 0.5384244918823242), ('심리적', 0.5351637601852417), ('담론', 0.5324663519859314)]\n"
     ]
    }
   ],
   "source": [
    "result = model.wv.most_similar(\"인간관계\")\n",
    "print(result)"
   ]
  },
  {
   "cell_type": "code",
   "execution_count": null,
   "metadata": {},
   "outputs": [],
   "source": []
  }
 ],
 "metadata": {
  "kernelspec": {
   "display_name": "Python 3.7.3 64-bit ('Minwook': virtualenv)",
   "language": "python",
   "name": "python37364bitminwookvirtualenvc0840502573a4effb05e6da0ed85d834"
  },
  "language_info": {
   "codemirror_mode": {
    "name": "ipython",
    "version": 3
   },
   "file_extension": ".py",
   "mimetype": "text/x-python",
   "name": "python",
   "nbconvert_exporter": "python",
   "pygments_lexer": "ipython3",
   "version": "3.8.3"
  }
 },
 "nbformat": 4,
 "nbformat_minor": 4
}
